{
 "cells": [
  {
   "cell_type": "code",
   "execution_count": 11,
   "id": "ce6d6856",
   "metadata": {},
   "outputs": [
    {
     "data": {
      "text/plain": [
       "'Assignment No. 1\\nTitle of the Assignment: Data Wrangling, I\\nPerform the following operations using Python on any open source dataset (e.g., data.csv)\\nImport all the required Python Libraries.\\n1. Locate open source data from the web (e.g. https://www.kaggle.com).\\n2. Provide a clear description of the data and its source (i.e., URL of the web site).\\n3. Load the Dataset into the pandas data frame.\\n4. Data Preprocessing: check for missing values in the data using pandas insult(), describe()\\nfunction to get some initial statistics. Provide variable descriptions. Types of variables etc. \\nCheck the dimensions of the data frame.\\n5. Data Formatting and Data Normalization: Summarize the types of variables by checking\\nthe data types (i.e., character, numeric, integer, factor, and logical) of the variables in the\\ndata set. If variables are not in the correct data type, apply proper type conversions.\\n6. Turn categorical variables into quantitative variables in Python.\\n'"
      ]
     },
     "execution_count": 11,
     "metadata": {},
     "output_type": "execute_result"
    }
   ],
   "source": [
    "'''Assignment No. 1\n",
    "Title of the Assignment: Data Wrangling, I\n",
    "Perform the following operations using Python on any open source dataset (e.g., data.csv)\n",
    "Import all the required Python Libraries.\n",
    "1. Locate open source data from the web (e.g. https://www.kaggle.com).\n",
    "2. Provide a clear description of the data and its source (i.e., URL of the web site).\n",
    "3. Load the Dataset into the pandas data frame.\n",
    "4. Data Preprocessing: check for missing values in the data using pandas insult(), describe()\n",
    "function to get some initial statistics. Provide variable descriptions. Types of variables etc. \n",
    "Check the dimensions of the data frame.\n",
    "5. Data Formatting and Data Normalization: Summarize the types of variables by checking\n",
    "the data types (i.e., character, numeric, integer, factor, and logical) of the variables in the\n",
    "data set. If variables are not in the correct data type, apply proper type conversions.\n",
    "6. Turn categorical variables into quantitative variables in Python.\n",
    "'''"
   ]
  },
  {
   "cell_type": "code",
   "execution_count": 2,
   "id": "273b7bcd",
   "metadata": {},
   "outputs": [],
   "source": [
    "import pandas as pd\n",
    "\n",
    "#matplotlib.pyplot library use\n",
    "import matplotlib.pyplot as plt\n"
   ]
  },
  {
   "cell_type": "code",
   "execution_count": 24,
   "id": "af8300f2",
   "metadata": {},
   "outputs": [
    {
     "data": {
      "text/plain": [
       "<AxesSubplot:>"
      ]
     },
     "execution_count": 24,
     "metadata": {},
     "output_type": "execute_result"
    },
    {
     "data": {
      "image/png": "[encoded data removed]",
      "text/plain": [
       "<Figure size 432x288 with 1 Axes>"
      ]
     },
     "metadata": {
      "needs_background": "light"
     },
     "output_type": "display_data"
    }
   ],
   "source": [
    "# reading database in variables\n",
    "data = pd.read_csv(\"iris.csv\")\n",
    "new = pd.read_csv(\"new.csv\")\n",
    "\n",
    "data.plot(kind = 'bar')"
   ]
  },
  {
   "cell_type": "code",
   "execution_count": 25,
   "id": "2ccc3a4d",
   "metadata": {},
   "outputs": [
    {
     "name": "stdout",
     "output_type": "stream",
     "text": [
      "   sepal.length  sepal.width  petal.length  petal.width variety\n",
      "0           5.1          3.5           1.4          0.2  Setosa\n",
      "1           4.9          3.0           1.4          0.2  Setosa\n",
      "2           4.7          3.2           1.3          0.2  Setosa\n",
      "3           4.6          3.1           1.5          0.2  Setosa\n",
      "4           5.0          3.6           1.4          0.2  Setosa\n",
      "   ID     Name      Address  Gender\n",
      "0   0  Tanjoro        Japan    Male\n",
      "1   1   Samrat       Sinner    Male\n",
      "2   2   Hinata        Japan     NaN\n",
      "3   3   Nezuko          NaN  Female\n",
      "4   4   Naruto  Hidden Leaf    Male\n",
      "   ID             Name      Address  Gender\n",
      "1   1           Samrat       Sinner    Male\n",
      "2   2           Hinata        Japan     NaN\n",
      "3   3           Nezuko          NaN  Female\n",
      "4   4           Naruto  Hidden Leaf    Male\n",
      "5   5  MOnkey D. Luffy          NaN    Male\n",
      "   ID     Name      Address Gender\n",
      "0   0  Tanjoro        Japan   Male\n",
      "1   1   Samrat       Sinner   Male\n",
      "4   4   Naruto  Hidden Leaf   Male\n",
      "   ID             Name      Address  Gender\n",
      "0   0          Tanjoro        Japan    Male\n",
      "1   1           Samrat       Sinner    Male\n",
      "2   2           Hinata        Japan    Male\n",
      "3   3           Nezuko          NaN  Female\n",
      "4   4           Naruto  Hidden Leaf    Male\n",
      "5   5  MOnkey D. Luffy          NaN    Male\n",
      "ID         6\n",
      "Name       6\n",
      "Address    4\n",
      "Gender     6\n",
      "dtype: int64\n",
      "<class 'pandas.core.frame.DataFrame'>\n",
      "RangeIndex: 150 entries, 0 to 149\n",
      "Data columns (total 5 columns):\n",
      " #   Column        Non-Null Count  Dtype  \n",
      "---  ------        --------------  -----  \n",
      " 0   sepal.length  150 non-null    float64\n",
      " 1   sepal.width   150 non-null    float64\n",
      " 2   petal.length  150 non-null    float64\n",
      " 3   petal.width   150 non-null    float64\n",
      " 4   variety       150 non-null    object \n",
      "dtypes: float64(4), object(1)\n",
      "memory usage: 6.0+ KB\n",
      "None\n",
      "<class 'pandas.core.frame.DataFrame'>\n",
      "RangeIndex: 6 entries, 0 to 5\n",
      "Data columns (total 4 columns):\n",
      " #   Column   Non-Null Count  Dtype \n",
      "---  ------   --------------  ----- \n",
      " 0   ID       6 non-null      int64 \n",
      " 1   Name     6 non-null      object\n",
      " 2   Address  4 non-null      object\n",
      " 3   Gender   6 non-null      object\n",
      "dtypes: int64(1), object(3)\n",
      "memory usage: 320.0+ bytes\n",
      "None\n"
     ]
    }
   ],
   "source": [
    "# print first 5 rows in database\n",
    "print(data.head())\n",
    "print(new.head())\n",
    "\n",
    "#printing tail element\n",
    "print(new.tail())\n",
    "\n",
    "#deleting null data\n",
    "new_df = new.dropna()\n",
    "print(new_df)\n",
    "\n",
    "#filling null values with NULL word\n",
    "new[\"Gender\"].fillna('Male',inplace=True)\n",
    "print(new)\n",
    "\n",
    "#drop_duplicate(inplace=True) & counting values\n",
    "new2 = new.count()\n",
    "print(new2)\n",
    "\n",
    "#information\n",
    "print(data.info())\n",
    "print(new.info())"
   ]
  },
  {
   "cell_type": "code",
   "execution_count": 26,
   "id": "0059e422",
   "metadata": {},
   "outputs": [
    {
     "name": "stdout",
     "output_type": "stream",
     "text": [
      "     sepal.length  sepal.width  petal.length  petal.width    variety\n",
      "0             5.1          3.5           1.4          0.2     Setosa\n",
      "1             4.9          3.0           1.4          0.2     Setosa\n",
      "2             4.7          3.2           1.3          0.2     Setosa\n",
      "3             4.6          3.1           1.5          0.2     Setosa\n",
      "4             5.0          3.6           1.4          0.2     Setosa\n",
      "..            ...          ...           ...          ...        ...\n",
      "145           6.7          3.0           5.2          2.3  Virginica\n",
      "146           6.3          2.5           5.0          1.9  Virginica\n",
      "147           6.5          3.0           5.2          2.0  Virginica\n",
      "148           6.2          3.4           5.4          2.3  Virginica\n",
      "149           5.9          3.0           5.1          1.8  Virginica\n",
      "\n",
      "[150 rows x 5 columns]\n",
      "   ID             Name      Address  Gender\n",
      "0   0          Tanjoro        Japan    Male\n",
      "1   1           Samrat       Sinner    Male\n",
      "2   2           Hinata        Japan    Male\n",
      "3   3           Nezuko          NaN  Female\n",
      "4   4           Naruto  Hidden Leaf    Male\n",
      "5   5  MOnkey D. Luffy          NaN    Male\n"
     ]
    }
   ],
   "source": [
    "# printing whole databse\n",
    "print(data)\n",
    "print(new)"
   ]
  },
  {
   "cell_type": "code",
   "execution_count": 27,
   "id": "fccfaafd",
   "metadata": {},
   "outputs": [
    {
     "name": "stdout",
     "output_type": "stream",
     "text": [
      "(150, 5)\n",
      "(6, 4)\n"
     ]
    }
   ],
   "source": [
    "# Check dimensions of dataframe\n",
    "print(data.shape)\n",
    "print(new.shape)"
   ]
  },
  {
   "cell_type": "code",
   "execution_count": 28,
   "id": "56483517",
   "metadata": {},
   "outputs": [
    {
     "name": "stdout",
     "output_type": "stream",
     "text": [
      "sepal.length    0\n",
      "sepal.width     0\n",
      "petal.length    0\n",
      "petal.width     0\n",
      "variety         0\n",
      "dtype: int64\n",
      "2\n"
     ]
    }
   ],
   "source": [
    "# Check whether null values are present in the database as per the column\n",
    "print(data.isnull().sum())\n",
    "print(new['Address'].isnull().sum())"
   ]
  },
  {
   "cell_type": "code",
   "execution_count": 29,
   "id": "5cea3195",
   "metadata": {},
   "outputs": [
    {
     "name": "stdout",
     "output_type": "stream",
     "text": [
      "       sepal.length  sepal.width  petal.length  petal.width\n",
      "count    150.000000   150.000000    150.000000   150.000000\n",
      "mean       5.843333     3.057333      3.758000     1.199333\n",
      "std        0.828066     0.435866      1.765298     0.762238\n",
      "min        4.300000     2.000000      1.000000     0.100000\n",
      "25%        5.100000     2.800000      1.600000     0.300000\n",
      "50%        5.800000     3.000000      4.350000     1.300000\n",
      "75%        6.400000     3.300000      5.100000     1.800000\n",
      "max        7.900000     4.400000      6.900000     2.500000\n",
      "             ID\n",
      "count  6.000000\n",
      "mean   2.500000\n",
      "std    1.870829\n",
      "min    0.000000\n",
      "25%    1.250000\n",
      "50%    2.500000\n",
      "75%    3.750000\n",
      "max    5.000000\n"
     ]
    }
   ],
   "source": [
    "# Get initial statistics for the data\n",
    "print(data.describe())\n",
    "print(new.describe())"
   ]
  },
  {
   "cell_type": "code",
   "execution_count": 30,
   "id": "a0136fd9",
   "metadata": {},
   "outputs": [
    {
     "name": "stdout",
     "output_type": "stream",
     "text": [
      "sepal.length      int32\n",
      "sepal.width     float64\n",
      "petal.length    float64\n",
      "petal.width     float64\n",
      "variety          object\n",
      "dtype: object\n"
     ]
    }
   ],
   "source": [
    "# Convert a variable to integer\n",
    "data['sepal.length'] = data['sepal.length'].astype(int)\n",
    "\n",
    "# Check data types of variables in the dataframe\n",
    "print(data.dtypes)"
   ]
  },
  {
   "cell_type": "code",
   "execution_count": 31,
   "id": "74202168",
   "metadata": {},
   "outputs": [
    {
     "name": "stdout",
     "output_type": "stream",
     "text": [
      "   ID             Name      Address Gender\n",
      "0   0          Tanjoro        Japan      1\n",
      "1   1           Samrat       Sinner      1\n",
      "2   2           Hinata        Japan      1\n",
      "3   3           Nezuko          NaN      0\n",
      "4   4           Naruto  Hidden Leaf      1\n",
      "5   5  MOnkey D. Luffy          NaN   Male\n"
     ]
    }
   ],
   "source": [
    "# Perform categorical variable into quantitative variables\n",
    "new_df = new.replace(to_replace=[\"Female\",\"Male\"],value=[0,1])\n",
    "print(new_df)"
   ]
  },
  {
   "cell_type": "code",
   "execution_count": 32,
   "id": "b7793272",
   "metadata": {},
   "outputs": [
    {
     "data": {
      "text/plain": [
       "Gender\n",
       " Male     1\n",
       "Female    1\n",
       "Male      0\n",
       "Name: Address, dtype: int64"
      ]
     },
     "execution_count": 32,
     "metadata": {},
     "output_type": "execute_result"
    }
   ],
   "source": [
    "#groupby\n",
    "new.groupby(['Gender'])['Address'].apply(lambda x:x.isnull().sum())\n"
   ]
  },
  {
   "cell_type": "code",
   "execution_count": null,
   "id": "ec271890",
   "metadata": {},
   "outputs": [],
   "source": []
  }
 ],
 "metadata": {
  "kernelspec": {
   "display_name": "Python 3 (ipykernel)",
   "language": "python",
   "name": "python3"
  },
  "language_info": {
   "codemirror_mode": {
    "name": "ipython",
    "version": 3
   },
   "file_extension": ".py",
   "mimetype": "text/x-python",
   "name": "python",
   "nbconvert_exporter": "python",
   "pygments_lexer": "ipython3",
   "version": "3.10.7"
  }
 },
 "nbformat": 4,
 "nbformat_minor": 5
}
