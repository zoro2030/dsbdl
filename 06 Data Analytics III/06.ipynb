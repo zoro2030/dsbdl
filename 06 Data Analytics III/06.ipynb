{
 "cells": [
  {
   "cell_type": "code",
   "execution_count": null,
   "id": "1d38a50a",
   "metadata": {},
   "outputs": [],
   "source": [
    "'''assignment no. 6\n",
    "    Title of the Assignment: Data Analytics III \n",
    "    1. Implement simple Naive Bayes classification algorithm using Python/R on iris.csv dataset. \n",
    "    2. Compute confusion matrix to find TP, FP, TN, FN, Accuracy, Error rate, Precision, Recall \n",
    "    on the given dataset.'''"
   ]
  },
  {
   "cell_type": "code",
   "execution_count": 1,
   "id": "53cf2cbf",
   "metadata": {},
   "outputs": [
    {
     "name": "stdout",
     "output_type": "stream",
     "text": [
      "   Id  SepalLengthCm  SepalWidthCm  PetalLengthCm  PetalWidthCm      Species\n",
      "0   1            5.1           3.5            1.4           0.2  Iris-setosa\n",
      "1   2            4.9           3.0            1.4           0.2  Iris-setosa\n",
      "2   3            4.7           3.2            1.3           0.2  Iris-setosa\n",
      "3   4            4.6           3.1            1.5           0.2  Iris-setosa\n",
      "4   5            5.0           3.6            1.4           0.2  Iris-setosa\n"
     ]
    }
   ],
   "source": [
    "import numpy as np\n",
    "import pandas as pd\n",
    "import matplotlib.pyplot as plt\n",
    "from sklearn.model_selection import train_test_split\n",
    "\n",
    "dataset=pd.read_csv('iris.csv')\n",
    "X=dataset.iloc[:,:4].values \n",
    "y = dataset['Species'].values\n",
    "print(dataset.head(5)) "
   ]
  },
  {
   "cell_type": "code",
   "execution_count": 2,
   "id": "d1f80a5b",
   "metadata": {},
   "outputs": [],
   "source": [
    "X_train, X_test, y_train, y_test = train_test_split(X, y, test_size = 0.2)\n",
    "from sklearn import preprocessing\n",
    "sc = preprocessing.StandardScaler()\n",
    "X_train = sc.fit_transform(X_train) \n",
    "X_test = sc.transform(X_test)"
   ]
  },
  {
   "cell_type": "code",
   "execution_count": 4,
   "id": "1228044e",
   "metadata": {},
   "outputs": [
    {
     "data": {
      "text/plain": [
       "array(['Iris-versicolor', 'Iris-virginica', 'Iris-virginica',\n",
       "       'Iris-versicolor', 'Iris-virginica', 'Iris-versicolor',\n",
       "       'Iris-setosa', 'Iris-setosa', 'Iris-virginica', 'Iris-setosa',\n",
       "       'Iris-setosa', 'Iris-setosa', 'Iris-versicolor', 'Iris-virginica',\n",
       "       'Iris-setosa', 'Iris-versicolor', 'Iris-setosa', 'Iris-versicolor',\n",
       "       'Iris-virginica', 'Iris-virginica', 'Iris-setosa',\n",
       "       'Iris-versicolor', 'Iris-virginica', 'Iris-virginica',\n",
       "       'Iris-setosa', 'Iris-setosa', 'Iris-versicolor', 'Iris-setosa',\n",
       "       'Iris-setosa', 'Iris-virginica'], dtype='<U15')"
      ]
     },
     "execution_count": 4,
     "metadata": {},
     "output_type": "execute_result"
    }
   ],
   "source": [
    "from sklearn.naive_bayes import GaussianNB\n",
    "classifier = GaussianNB() \n",
    "classifier.fit(X_train, y_train)\n",
    "y_pred = classifier.predict(X_test) \n",
    "y_pred"
   ]
  },
  {
   "cell_type": "code",
   "execution_count": 5,
   "id": "2191af43",
   "metadata": {},
   "outputs": [
    {
     "name": "stdout",
     "output_type": "stream",
     "text": [
      "Accuracy :  1.0\n",
      "[[12  0  0]\n",
      " [ 0  8  0]\n",
      " [ 0  0 10]]\n"
     ]
    }
   ],
   "source": [
    "# Confusion Matrix and Accuracy \n",
    "from sklearn.metrics import confusion_matrix \n",
    "cm = confusion_matrix(y_test, y_pred)\n",
    "from sklearn.metrics import accuracy_score\n",
    "print(\"Accuracy : \", accuracy_score(y_test, y_pred)) \n",
    "print(cm)"
   ]
  },
  {
   "cell_type": "code",
   "execution_count": 6,
   "id": "eb1ec8a8",
   "metadata": {
    "scrolled": true
   },
   "outputs": [
    {
     "name": "stdout",
     "output_type": "stream",
     "text": [
      "        Real Values Predicted Values\n",
      "0   Iris-versicolor  Iris-versicolor\n",
      "1    Iris-virginica   Iris-virginica\n",
      "2    Iris-virginica   Iris-virginica\n",
      "3   Iris-versicolor  Iris-versicolor\n",
      "4    Iris-virginica   Iris-virginica\n",
      "5   Iris-versicolor  Iris-versicolor\n",
      "6       Iris-setosa      Iris-setosa\n",
      "7       Iris-setosa      Iris-setosa\n",
      "8    Iris-virginica   Iris-virginica\n",
      "9       Iris-setosa      Iris-setosa\n",
      "10      Iris-setosa      Iris-setosa\n",
      "11      Iris-setosa      Iris-setosa\n",
      "12  Iris-versicolor  Iris-versicolor\n",
      "13   Iris-virginica   Iris-virginica\n",
      "14      Iris-setosa      Iris-setosa\n",
      "15  Iris-versicolor  Iris-versicolor\n",
      "16      Iris-setosa      Iris-setosa\n",
      "17  Iris-versicolor  Iris-versicolor\n",
      "18   Iris-virginica   Iris-virginica\n",
      "19   Iris-virginica   Iris-virginica\n",
      "20      Iris-setosa      Iris-setosa\n",
      "21  Iris-versicolor  Iris-versicolor\n",
      "22   Iris-virginica   Iris-virginica\n",
      "23   Iris-virginica   Iris-virginica\n",
      "24      Iris-setosa      Iris-setosa\n",
      "25      Iris-setosa      Iris-setosa\n",
      "26  Iris-versicolor  Iris-versicolor\n",
      "27      Iris-setosa      Iris-setosa\n",
      "28      Iris-setosa      Iris-setosa\n",
      "29   Iris-virginica   Iris-virginica\n"
     ]
    }
   ],
   "source": [
    "# Comparing the Real Values with Predicted Values\n",
    "df = pd.DataFrame({'Real Values':y_test, 'Predicted Values':y_pred})\n",
    "print(df)"
   ]
  },
  {
   "cell_type": "code",
   "execution_count": 9,
   "id": "994caa12",
   "metadata": {},
   "outputs": [
    {
     "name": "stdout",
     "output_type": "stream",
     "text": [
      "error rate:- 0.0\n"
     ]
    }
   ],
   "source": [
    "#We have to import precision_score, recall_score, accuracy_score from sklearn.metrics \n",
    "from sklearn.metrics import precision_score, recall_score, accuracy_score\n",
    "m=accuracy_score(y_test, y_pred) \n",
    "print(\"error rate:-\",1-m) "
   ]
  },
  {
   "cell_type": "code",
   "execution_count": 10,
   "id": "bcb86656",
   "metadata": {},
   "outputs": [
    {
     "name": "stdout",
     "output_type": "stream",
     "text": [
      "Precision: 1.0\n"
     ]
    }
   ],
   "source": [
    "print('Precision:',precision_score(y_test,y_pred,average='micro'))"
   ]
  },
  {
   "cell_type": "code",
   "execution_count": 11,
   "id": "8b5e06b6",
   "metadata": {},
   "outputs": [
    {
     "name": "stdout",
     "output_type": "stream",
     "text": [
      "Recall Score: 1.0\n"
     ]
    }
   ],
   "source": [
    "print(\"Recall Score:\",recall_score(y_test,y_pred,average='micro'))"
   ]
  },
  {
   "cell_type": "code",
   "execution_count": null,
   "id": "93096281",
   "metadata": {},
   "outputs": [],
   "source": [
    "'''Thus, in this way we have successfully been able to build a Naive Bayes Classification Model \n",
    "that is able to classify a flower depending upon 4 characteristic features. This model can be \n",
    "implemented and tested with several other classification datasets that are available on the net.'''"
   ]
  }
 ],
 "metadata": {
  "kernelspec": {
   "display_name": "Python 3 (ipykernel)",
   "language": "python",
   "name": "python3"
  },
  "language_info": {
   "codemirror_mode": {
    "name": "ipython",
    "version": 3
   },
   "file_extension": ".py",
   "mimetype": "text/x-python",
   "name": "python",
   "nbconvert_exporter": "python",
   "pygments_lexer": "ipython3",
   "version": "3.10.7"
  }
 },
 "nbformat": 4,
 "nbformat_minor": 5
}
